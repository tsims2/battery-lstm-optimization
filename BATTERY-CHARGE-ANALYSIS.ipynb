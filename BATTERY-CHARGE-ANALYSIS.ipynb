{
 "cells": [
  {
   "cell_type": "markdown",
   "metadata": {},
   "source": [
    "# Battery Charge Analysis\n",
    "This notebook uses the lstm_model and battery_analysis modules to forecast emissions, energy costs, and other incentives and analyse optimal battery performance with provided battery information. It performs hourly analysis and forecasts one month at a time based on the ISONE region. \n",
    "\n",
    "## Battery Benefits\n",
    "Batteries provide three primary benefits. They reduce carbon footprints, they lower energy bills, and they can participate in various incentive programs. These benefits are determined base on the energy source makeup, price of energy, energy demand, and program calls at any given hour. \n",
    "\n",
    "**Carbon Accounting** If we charge a battery during hours when energy has a low emission profile and then discharges that energy when the emissions are high, the battery is reducing overall emissions. \n",
    "\n",
    "**Energy Savings** If we charge a battery during hours when energy prices are low and then discharges that energy when the prices are high, the battery is reducing overall energy costs. \n",
    "\n",
    "**Incentive Payouts** A battery can discharge during specific hours if it is enrolled in select incentive programs. This participation receives direct payment. \n",
    "\n",
    "### Weather Forecast\n",
    "The first step to this analysis is forecasting the weather. This weather data was collected from . We use lstm_model.weather_forecast() to retreive the weather forecast."
   ]
  },
  {
   "cell_type": "code",
   "execution_count": null,
   "metadata": {},
   "outputs": [],
   "source": [
    "import pandas as pd\n",
    "import machine_learning_pipelines as mlp\n",
    "\n",
    "# mlp.weather_forecast() returns an object with weather forecast for ... to ... using a trained lstm model. See lstm_models for details\n",
    "weather_forecast = mlp.weather_forecast()\n",
    "\n",
    "# Call the display funciton to get a visual of the forecast\n",
    "weather_forecast.display()"
   ]
  },
  {
   "cell_type": "markdown",
   "metadata": {},
   "source": [
    "### Emissions Forecast\n",
    "We can use the lstm_model.emissions_forecast() to retrieve an emissions curve. The emissions_forecast model "
   ]
  },
  {
   "cell_type": "code",
   "execution_count": null,
   "metadata": {},
   "outputs": [],
   "source": [
    "# Feed the output of mlp.weather_forecast() into this model\n",
    "emissions_forecast = mlp.emissions_forecast(weather_forecast)\n",
    "\n",
    "# Call the display funciton to get a visual of the forecast\n",
    "emissions_forecast.display()"
   ]
  },
  {
   "cell_type": "markdown",
   "metadata": {},
   "source": [
    "### Energy Costs Forecast"
   ]
  },
  {
   "cell_type": "code",
   "execution_count": null,
   "metadata": {},
   "outputs": [],
   "source": [
    "# Feed the output of mlp.weather_forecast() into this model\n",
    "energy_cost_forecast = mlp.energy_cost_forecast(weather_forecast)\n",
    "\n",
    "# Call the display funciton to get a visual of the forecast\n",
    "energy_cost_forecast.display()"
   ]
  },
  {
   "cell_type": "markdown",
   "metadata": {},
   "source": [
    "### Incentive Calls Forecast"
   ]
  },
  {
   "cell_type": "code",
   "execution_count": null,
   "metadata": {},
   "outputs": [],
   "source": [
    "# Feed the output of mlp.weather_forecast() into this model\n",
    "incetive_forecast = mlp.incetive_forecast(weather_forecast)\n",
    "\n",
    "# Call the display funciton to get a visual of the forecast\n",
    "incetive_forecast.display()"
   ]
  },
  {
   "cell_type": "markdown",
   "metadata": {},
   "source": [
    "### Battery Optimization\n",
    "From our battery_analysis_resources we can load in a battery object. "
   ]
  },
  {
   "cell_type": "code",
   "execution_count": null,
   "metadata": {},
   "outputs": [],
   "source": [
    "import battery_analysis_resources as bar\n",
    "\n",
    "# Create a new instance of a battery\n",
    "battery1 = bar.assign_battery()\n",
    "\n",
    "# Set paramenters for the battery\n",
    "battery1.set_params({\n",
    "    'capacity':1000,\n",
    "    'connected_solutions_daily':True,\n",
    "})\n",
    "\n",
    "# Use the forecasts to create a schedule for the battery\n",
    "battery1.get_schedule({\n",
    "    'emissions_forecast':emissions_forecast,\n",
    "    'energy_cost_forecast':energy_cost_forecast,\n",
    "    'incetive_forecast':incetive_forecast\n",
    "})\n",
    "\n",
    "# Print the Schedule\n",
    "battery1.display_schedule()\n",
    "\n",
    "# Print the Carbon Analaysis\n",
    "battery1.display_carbon_analysis()\n",
    "\n",
    "# Print the Profit Analysis\n",
    "battery1.display_profit_analysis()"
   ]
  },
  {
   "cell_type": "markdown",
   "metadata": {},
   "source": [
    "We can then call, .get_optimized_schedule() on the battery, feed it in our forecasts, and we will get a "
   ]
  }
 ],
 "metadata": {
  "language_info": {
   "name": "python"
  }
 },
 "nbformat": 4,
 "nbformat_minor": 2
}
